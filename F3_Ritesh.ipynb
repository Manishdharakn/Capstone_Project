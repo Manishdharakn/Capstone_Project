{
 "cells": [
  {
   "cell_type": "markdown",
   "id": "6dd24588",
   "metadata": {},
   "source": [
    "#PROBLEM STATEMENT - Joining status depends on the duration to accept an offer?\n",
    "\n",
    "#Reading the respective csv files and merging them"
   ]
  },
  {
   "cell_type": "code",
   "execution_count": 286,
   "id": "8dd04582",
   "metadata": {},
   "outputs": [],
   "source": [
    "import pandas as pd\n",
    "df1 = pd.read_csv('HR_Hiring_details_transaction.csv')\n",
    "df2 = pd.read_csv('Joining_Status.csv')\n",
    "df3 = df1.merge(df2)\n",
    "df4 = df3\n",
    "#mergeDf=pd.merge(df1,df2,how='outer')"
   ]
  },
  {
   "cell_type": "markdown",
   "id": "e19e84d8",
   "metadata": {},
   "source": [
    "#Creating a panda series showing number of Candidates accepting offer after given number of days\n"
   ]
  },
  {
   "cell_type": "code",
   "execution_count": 287,
   "id": "e33c01eb",
   "metadata": {
    "scrolled": true
   },
   "outputs": [],
   "source": [
    "acceptance_count = df4['Duration_to_accept_offer'].value_counts()\n",
    "daywise_acceptance_count = acceptance_count.sort_index()\n",
    "# daywise_acceptance_count"
   ]
  },
  {
   "cell_type": "markdown",
   "id": "9fb88fde",
   "metadata": {},
   "source": [
    "#Creating a panda series showing number of candidate joining after accepting offer "
   ]
  },
  {
   "cell_type": "code",
   "execution_count": 288,
   "id": "4c687829",
   "metadata": {},
   "outputs": [],
   "source": [
    "joinedCondidate = (df4[(df4['Status']) == 'Joined'])['Duration_to_accept_offer'].value_counts()\n",
    "finalJoinedCondidate = joinedCondidate.sort_index()"
   ]
  },
  {
   "cell_type": "markdown",
   "id": "6a41fe73",
   "metadata": {},
   "source": [
    "#Concatenating two Series to form a dataframe of desired output"
   ]
  },
  {
   "cell_type": "code",
   "execution_count": 306,
   "id": "8828c3ee",
   "metadata": {},
   "outputs": [],
   "source": [
    "created_df = pd.concat([finalRespondents, finalJoinedCondidate], axis = 1)\n",
    "desired_op = created_df.set_axis([\"Offers_accepted\", \"Joined_Candidate\"], axis=1)\n",
    "desired_op = desired_op.rename_axis('Duration_to_accept_offer')"
   ]
  },
  {
   "cell_type": "markdown",
   "id": "1964194c",
   "metadata": {},
   "source": [
    "#Replacing NaN by 0 in order to get result in %age"
   ]
  },
  {
   "cell_type": "code",
   "execution_count": 310,
   "id": "5243c155",
   "metadata": {
    "scrolled": true
   },
   "outputs": [
    {
     "data": {
      "text/html": [
       "<div>\n",
       "<style scoped>\n",
       "    .dataframe tbody tr th:only-of-type {\n",
       "        vertical-align: middle;\n",
       "    }\n",
       "\n",
       "    .dataframe tbody tr th {\n",
       "        vertical-align: top;\n",
       "    }\n",
       "\n",
       "    .dataframe thead th {\n",
       "        text-align: right;\n",
       "    }\n",
       "</style>\n",
       "<table border=\"1\" class=\"dataframe\">\n",
       "  <thead>\n",
       "    <tr style=\"text-align: right;\">\n",
       "      <th></th>\n",
       "      <th>Offers_accepted</th>\n",
       "      <th>Joined_Candidate</th>\n",
       "    </tr>\n",
       "    <tr>\n",
       "      <th>Duration_to_accept_offer</th>\n",
       "      <th></th>\n",
       "      <th></th>\n",
       "    </tr>\n",
       "  </thead>\n",
       "  <tbody>\n",
       "    <tr>\n",
       "      <th>0</th>\n",
       "      <td>757</td>\n",
       "      <td>686.0</td>\n",
       "    </tr>\n",
       "    <tr>\n",
       "      <th>1</th>\n",
       "      <td>843</td>\n",
       "      <td>730.0</td>\n",
       "    </tr>\n",
       "    <tr>\n",
       "      <th>2</th>\n",
       "      <td>605</td>\n",
       "      <td>473.0</td>\n",
       "    </tr>\n",
       "    <tr>\n",
       "      <th>3</th>\n",
       "      <td>518</td>\n",
       "      <td>440.0</td>\n",
       "    </tr>\n",
       "    <tr>\n",
       "      <th>4</th>\n",
       "      <td>475</td>\n",
       "      <td>353.0</td>\n",
       "    </tr>\n",
       "    <tr>\n",
       "      <th>5</th>\n",
       "      <td>380</td>\n",
       "      <td>302.0</td>\n",
       "    </tr>\n",
       "    <tr>\n",
       "      <th>6</th>\n",
       "      <td>334</td>\n",
       "      <td>257.0</td>\n",
       "    </tr>\n",
       "    <tr>\n",
       "      <th>7</th>\n",
       "      <td>265</td>\n",
       "      <td>198.0</td>\n",
       "    </tr>\n",
       "    <tr>\n",
       "      <th>8</th>\n",
       "      <td>166</td>\n",
       "      <td>114.0</td>\n",
       "    </tr>\n",
       "    <tr>\n",
       "      <th>9</th>\n",
       "      <td>127</td>\n",
       "      <td>101.0</td>\n",
       "    </tr>\n",
       "  </tbody>\n",
       "</table>\n",
       "</div>"
      ],
      "text/plain": [
       "                          Offers_accepted  Joined_Candidate\n",
       "Duration_to_accept_offer                                   \n",
       "0                                     757             686.0\n",
       "1                                     843             730.0\n",
       "2                                     605             473.0\n",
       "3                                     518             440.0\n",
       "4                                     475             353.0\n",
       "5                                     380             302.0\n",
       "6                                     334             257.0\n",
       "7                                     265             198.0\n",
       "8                                     166             114.0\n",
       "9                                     127             101.0"
      ]
     },
     "execution_count": 310,
     "metadata": {},
     "output_type": "execute_result"
    }
   ],
   "source": [
    "Final_op = desired_op.fillna(0)\n",
    "Final_op.head(10)"
   ]
  },
  {
   "cell_type": "code",
   "execution_count": 311,
   "id": "df7fa872",
   "metadata": {},
   "outputs": [
    {
     "data": {
      "text/html": [
       "<div>\n",
       "<style scoped>\n",
       "    .dataframe tbody tr th:only-of-type {\n",
       "        vertical-align: middle;\n",
       "    }\n",
       "\n",
       "    .dataframe tbody tr th {\n",
       "        vertical-align: top;\n",
       "    }\n",
       "\n",
       "    .dataframe thead th {\n",
       "        text-align: right;\n",
       "    }\n",
       "</style>\n",
       "<table border=\"1\" class=\"dataframe\">\n",
       "  <thead>\n",
       "    <tr style=\"text-align: right;\">\n",
       "      <th></th>\n",
       "      <th>Offers_accepted</th>\n",
       "      <th>Joined_Candidate</th>\n",
       "    </tr>\n",
       "    <tr>\n",
       "      <th>Duration_to_accept_offer</th>\n",
       "      <th></th>\n",
       "      <th></th>\n",
       "    </tr>\n",
       "  </thead>\n",
       "  <tbody>\n",
       "    <tr>\n",
       "      <th>127</th>\n",
       "      <td>2</td>\n",
       "      <td>0.0</td>\n",
       "    </tr>\n",
       "    <tr>\n",
       "      <th>129</th>\n",
       "      <td>3</td>\n",
       "      <td>2.0</td>\n",
       "    </tr>\n",
       "    <tr>\n",
       "      <th>130</th>\n",
       "      <td>1</td>\n",
       "      <td>0.0</td>\n",
       "    </tr>\n",
       "    <tr>\n",
       "      <th>131</th>\n",
       "      <td>1</td>\n",
       "      <td>1.0</td>\n",
       "    </tr>\n",
       "    <tr>\n",
       "      <th>140</th>\n",
       "      <td>1</td>\n",
       "      <td>1.0</td>\n",
       "    </tr>\n",
       "    <tr>\n",
       "      <th>143</th>\n",
       "      <td>1</td>\n",
       "      <td>1.0</td>\n",
       "    </tr>\n",
       "    <tr>\n",
       "      <th>163</th>\n",
       "      <td>1</td>\n",
       "      <td>0.0</td>\n",
       "    </tr>\n",
       "    <tr>\n",
       "      <th>181</th>\n",
       "      <td>1</td>\n",
       "      <td>0.0</td>\n",
       "    </tr>\n",
       "    <tr>\n",
       "      <th>210</th>\n",
       "      <td>1</td>\n",
       "      <td>0.0</td>\n",
       "    </tr>\n",
       "    <tr>\n",
       "      <th>224</th>\n",
       "      <td>1</td>\n",
       "      <td>0.0</td>\n",
       "    </tr>\n",
       "  </tbody>\n",
       "</table>\n",
       "</div>"
      ],
      "text/plain": [
       "                          Offers_accepted  Joined_Candidate\n",
       "Duration_to_accept_offer                                   \n",
       "127                                     2               0.0\n",
       "129                                     3               2.0\n",
       "130                                     1               0.0\n",
       "131                                     1               1.0\n",
       "140                                     1               1.0\n",
       "143                                     1               1.0\n",
       "163                                     1               0.0\n",
       "181                                     1               0.0\n",
       "210                                     1               0.0\n",
       "224                                     1               0.0"
      ]
     },
     "execution_count": 311,
     "metadata": {},
     "output_type": "execute_result"
    }
   ],
   "source": [
    "Final_op.tail(10)"
   ]
  },
  {
   "cell_type": "markdown",
   "id": "6fbd26f7",
   "metadata": {},
   "source": [
    "#Creating a table showing %age Joining w.r.t duration to accept an offer"
   ]
  },
  {
   "cell_type": "code",
   "execution_count": 313,
   "id": "8b1e59ba",
   "metadata": {},
   "outputs": [],
   "source": [
    "Final_op['Joining_Percentage(%)'] = (Final_op['Joined_Candidate']*100)/df6['Offers_accepted']"
   ]
  },
  {
   "cell_type": "code",
   "execution_count": 314,
   "id": "c4387c27",
   "metadata": {},
   "outputs": [
    {
     "data": {
      "text/html": [
       "<div>\n",
       "<style scoped>\n",
       "    .dataframe tbody tr th:only-of-type {\n",
       "        vertical-align: middle;\n",
       "    }\n",
       "\n",
       "    .dataframe tbody tr th {\n",
       "        vertical-align: top;\n",
       "    }\n",
       "\n",
       "    .dataframe thead th {\n",
       "        text-align: right;\n",
       "    }\n",
       "</style>\n",
       "<table border=\"1\" class=\"dataframe\">\n",
       "  <thead>\n",
       "    <tr style=\"text-align: right;\">\n",
       "      <th></th>\n",
       "      <th>Offers_accepted</th>\n",
       "      <th>Joined_Candidate</th>\n",
       "      <th>Joining_Percentage(%)</th>\n",
       "    </tr>\n",
       "    <tr>\n",
       "      <th>Duration_to_accept_offer</th>\n",
       "      <th></th>\n",
       "      <th></th>\n",
       "      <th></th>\n",
       "    </tr>\n",
       "  </thead>\n",
       "  <tbody>\n",
       "    <tr>\n",
       "      <th>0</th>\n",
       "      <td>757</td>\n",
       "      <td>686.0</td>\n",
       "      <td>90.620872</td>\n",
       "    </tr>\n",
       "    <tr>\n",
       "      <th>1</th>\n",
       "      <td>843</td>\n",
       "      <td>730.0</td>\n",
       "      <td>86.595492</td>\n",
       "    </tr>\n",
       "    <tr>\n",
       "      <th>2</th>\n",
       "      <td>605</td>\n",
       "      <td>473.0</td>\n",
       "      <td>78.181818</td>\n",
       "    </tr>\n",
       "    <tr>\n",
       "      <th>3</th>\n",
       "      <td>518</td>\n",
       "      <td>440.0</td>\n",
       "      <td>84.942085</td>\n",
       "    </tr>\n",
       "    <tr>\n",
       "      <th>4</th>\n",
       "      <td>475</td>\n",
       "      <td>353.0</td>\n",
       "      <td>74.315789</td>\n",
       "    </tr>\n",
       "    <tr>\n",
       "      <th>...</th>\n",
       "      <td>...</td>\n",
       "      <td>...</td>\n",
       "      <td>...</td>\n",
       "    </tr>\n",
       "    <tr>\n",
       "      <th>143</th>\n",
       "      <td>1</td>\n",
       "      <td>1.0</td>\n",
       "      <td>100.000000</td>\n",
       "    </tr>\n",
       "    <tr>\n",
       "      <th>163</th>\n",
       "      <td>1</td>\n",
       "      <td>0.0</td>\n",
       "      <td>0.000000</td>\n",
       "    </tr>\n",
       "    <tr>\n",
       "      <th>181</th>\n",
       "      <td>1</td>\n",
       "      <td>0.0</td>\n",
       "      <td>0.000000</td>\n",
       "    </tr>\n",
       "    <tr>\n",
       "      <th>210</th>\n",
       "      <td>1</td>\n",
       "      <td>0.0</td>\n",
       "      <td>0.000000</td>\n",
       "    </tr>\n",
       "    <tr>\n",
       "      <th>224</th>\n",
       "      <td>1</td>\n",
       "      <td>0.0</td>\n",
       "      <td>0.000000</td>\n",
       "    </tr>\n",
       "  </tbody>\n",
       "</table>\n",
       "<p>136 rows × 3 columns</p>\n",
       "</div>"
      ],
      "text/plain": [
       "                          Offers_accepted  Joined_Candidate  \\\n",
       "Duration_to_accept_offer                                      \n",
       "0                                     757             686.0   \n",
       "1                                     843             730.0   \n",
       "2                                     605             473.0   \n",
       "3                                     518             440.0   \n",
       "4                                     475             353.0   \n",
       "...                                   ...               ...   \n",
       "143                                     1               1.0   \n",
       "163                                     1               0.0   \n",
       "181                                     1               0.0   \n",
       "210                                     1               0.0   \n",
       "224                                     1               0.0   \n",
       "\n",
       "                          Joining_Percentage(%)  \n",
       "Duration_to_accept_offer                         \n",
       "0                                     90.620872  \n",
       "1                                     86.595492  \n",
       "2                                     78.181818  \n",
       "3                                     84.942085  \n",
       "4                                     74.315789  \n",
       "...                                         ...  \n",
       "143                                  100.000000  \n",
       "163                                    0.000000  \n",
       "181                                    0.000000  \n",
       "210                                    0.000000  \n",
       "224                                    0.000000  \n",
       "\n",
       "[136 rows x 3 columns]"
      ]
     },
     "execution_count": 314,
     "metadata": {},
     "output_type": "execute_result"
    }
   ],
   "source": [
    "Final_op"
   ]
  },
  {
   "cell_type": "code",
   "execution_count": null,
   "id": "62770159",
   "metadata": {},
   "outputs": [],
   "source": []
  }
 ],
 "metadata": {
  "kernelspec": {
   "display_name": "Python 3 (ipykernel)",
   "language": "python",
   "name": "python3"
  },
  "language_info": {
   "codemirror_mode": {
    "name": "ipython",
    "version": 3
   },
   "file_extension": ".py",
   "mimetype": "text/x-python",
   "name": "python",
   "nbconvert_exporter": "python",
   "pygments_lexer": "ipython3",
   "version": "3.9.7"
  }
 },
 "nbformat": 4,
 "nbformat_minor": 5
}
