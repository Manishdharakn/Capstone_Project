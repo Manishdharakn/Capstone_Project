{
 "cells": [
  {
   "cell_type": "code",
   "execution_count": 5,
   "id": "157e8992",
   "metadata": {},
   "outputs": [],
   "source": [
    "import pandas as pd\n",
    "import numpy as np"
   ]
  },
  {
   "cell_type": "markdown",
   "id": "36e31247",
   "metadata": {},
   "source": [
    "#PROBLEM STATEMENT - Are there specific locations where candidates are not joining?"
   ]
  },
  {
   "cell_type": "markdown",
   "id": "7be43f18",
   "metadata": {},
   "source": [
    "  #Reading the respective csv files and merging them"
   ]
  },
  {
   "cell_type": "code",
   "execution_count": 3,
   "id": "4f0bd256",
   "metadata": {},
   "outputs": [],
   "source": [
    "df1 = pd.read_csv(\"HR_Hiring_details_transaction.csv\")\n",
    "df2 = pd.read_csv(\"Joining_Status.csv\")\n",
    "df3=df1.merge(df2)\n",
    "df4=df3"
   ]
  },
  {
   "cell_type": "markdown",
   "id": "ef633836",
   "metadata": {},
   "source": [
    "#Counting the number of candidates who have joined and not joined the company based on Location"
   ]
  },
  {
   "cell_type": "code",
   "execution_count": 18,
   "id": "b5e965a6",
   "metadata": {
    "collapsed": true
   },
   "outputs": [
    {
     "data": {
      "text/plain": [
       "Status      Location \n",
       "Joined      Ahmedabad       5\n",
       "            Bangalore    1742\n",
       "            Chennai      2486\n",
       "            Cochin          7\n",
       "            Gurgaon       118\n",
       "            Hyderabad     266\n",
       "            Kolkata       100\n",
       "            Mumbai        176\n",
       "            Noida        2362\n",
       "            Pune           38\n",
       "            Unknown        13\n",
       "Not Joined  Ahmedabad       1\n",
       "            Bangalore     488\n",
       "            Chennai       664\n",
       "            Cochin          1\n",
       "            Gurgaon        28\n",
       "            Hyderabad      75\n",
       "            Kolkata        29\n",
       "            Mumbai         21\n",
       "            Noida         365\n",
       "            Pune           10\n",
       "Name: Candidate_Ref, dtype: int64"
      ]
     },
     "execution_count": 18,
     "metadata": {},
     "output_type": "execute_result"
    }
   ],
   "source": [
    "df4=df3\n",
    "condition=[(df4['Location_ID']== 'L001'),(df4['Location_ID']== 'L002'),(df4['Location_ID']== 'L003'),\n",
    "           (df4['Location_ID']== 'L004'),(df4['Location_ID']== 'L005'),(df4['Location_ID']== 'L006'),\n",
    "           (df4['Location_ID']== 'L007'),(df4['Location_ID']== 'L008'),(df4['Location_ID']== 'L009'),\n",
    "           (df4['Location_ID']== 'L010'),(df4['Location_ID']== 'Null')]\n",
    "values=['Noida','Chennai','Gurgaon','Bangalore','Hyderabad','Kolkata','Cochin','Pune','Mumbai','Ahmedabad','Unknown']\n",
    "df4['Location']=np.select(condition, values)\n",
    "df4\n",
    "count_of_candidates=df4.groupby(['Status','Location'])['Candidate_Ref'].count()\n",
    "count_of_candidates"
   ]
  },
  {
   "cell_type": "markdown",
   "id": "ab89c171",
   "metadata": {},
   "source": [
    "#Counting the total number of candidates based on location"
   ]
  },
  {
   "cell_type": "code",
   "execution_count": 19,
   "id": "d3c00dca",
   "metadata": {
    "collapsed": true
   },
   "outputs": [
    {
     "data": {
      "text/plain": [
       "Location\n",
       "Ahmedabad       6\n",
       "Bangalore    2230\n",
       "Chennai      3150\n",
       "Cochin          8\n",
       "Gurgaon       146\n",
       "Hyderabad     341\n",
       "Kolkata       129\n",
       "Mumbai        197\n",
       "Noida        2727\n",
       "Pune           48\n",
       "Unknown        13\n",
       "Name: Candidate_Ref, dtype: int64"
      ]
     },
     "execution_count": 19,
     "metadata": {},
     "output_type": "execute_result"
    }
   ],
   "source": [
    "count_of_total_candidates=df4.groupby(['Location'])['Candidate_Ref'].count()\n",
    "count_of_total_candidates"
   ]
  },
  {
   "cell_type": "markdown",
   "id": "c2794d23",
   "metadata": {},
   "source": [
    "#Calculating the percentage to find out the percent of candidates joining and not joining based on location"
   ]
  },
  {
   "cell_type": "code",
   "execution_count": 20,
   "id": "61ba115d",
   "metadata": {
    "collapsed": true
   },
   "outputs": [
    {
     "data": {
      "text/plain": [
       "Status      Location \n",
       "Joined      Ahmedabad     83.333333\n",
       "            Bangalore     78.116592\n",
       "            Chennai       78.920635\n",
       "            Cochin        87.500000\n",
       "            Gurgaon       80.821918\n",
       "            Hyderabad     78.005865\n",
       "            Kolkata       77.519380\n",
       "            Mumbai        89.340102\n",
       "            Noida         86.615328\n",
       "            Pune          79.166667\n",
       "            Unknown      100.000000\n",
       "Not Joined  Ahmedabad     16.666667\n",
       "            Bangalore     21.883408\n",
       "            Chennai       21.079365\n",
       "            Cochin        12.500000\n",
       "            Gurgaon       19.178082\n",
       "            Hyderabad     21.994135\n",
       "            Kolkata       22.480620\n",
       "            Mumbai        10.659898\n",
       "            Noida         13.384672\n",
       "            Pune          20.833333\n",
       "Name: Candidate_Ref, dtype: float64"
      ]
     },
     "execution_count": 20,
     "metadata": {},
     "output_type": "execute_result"
    }
   ],
   "source": [
    "percentage_of_candidates=(count_of_candidates/count_of_total_candidates)*100\n",
    "percentage_of_candidates"
   ]
  },
  {
   "cell_type": "code",
   "execution_count": null,
   "id": "b70da9b0",
   "metadata": {},
   "outputs": [],
   "source": []
  }
 ],
 "metadata": {
  "kernelspec": {
   "display_name": "Python 3 (ipykernel)",
   "language": "python",
   "name": "python3"
  },
  "language_info": {
   "codemirror_mode": {
    "name": "ipython",
    "version": 3
   },
   "file_extension": ".py",
   "mimetype": "text/x-python",
   "name": "python",
   "nbconvert_exporter": "python",
   "pygments_lexer": "ipython3",
   "version": "3.9.7"
  }
 },
 "nbformat": 4,
 "nbformat_minor": 5
}
